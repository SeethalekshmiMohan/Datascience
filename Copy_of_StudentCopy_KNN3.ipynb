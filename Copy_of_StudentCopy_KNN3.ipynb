{
  "nbformat": 4,
  "nbformat_minor": 0,
  "metadata": {
    "colab": {
      "provenance": [],
      "include_colab_link": true
    },
    "kernelspec": {
      "name": "python3",
      "display_name": "Python 3"
    }
  },
  "cells": [
    {
      "cell_type": "markdown",
      "metadata": {
        "id": "view-in-github",
        "colab_type": "text"
      },
      "source": [
        "<a href=\"https://colab.research.google.com/github/SeethalekshmiMohan/Datascience/blob/main/Copy_of_StudentCopy_KNN3.ipynb\" target=\"_parent\"><img src=\"https://colab.research.google.com/assets/colab-badge.svg\" alt=\"Open In Colab\"/></a>"
      ]
    },
    {
      "cell_type": "markdown",
      "metadata": {
        "id": "lQejVZRS-7H2"
      },
      "source": [
        "#### Goal of the Project\n",
        "\n",
        "This project is designed for you to practice and solve the activities that are based on the concept:  kNN.\n",
        "\n",
        "\n"
      ]
    },
    {
      "cell_type": "markdown",
      "metadata": {
        "id": "QiBalTFLDtNO"
      },
      "source": [
        "---"
      ]
    },
    {
      "cell_type": "markdown",
      "metadata": {
        "id": "m9dW2iOz-9Y-"
      },
      "source": [
        "### Problem Statement\n",
        "\n",
        "As an owner of a startup, you wish to forecast the sales of your product to plan how much money should be spent on advertisements. This is because the sale of a product is usually proportional to the money spent on advertisements. To analyse this, you are given a dataset having the following attributes:         \n",
        "\n",
        "|Attribute|Description|\n",
        "|-|-|\n",
        "|TV| TV advertising budget in thousands of dollars.|\n",
        "|Radio| Radio advertising budget in thousands of dollars.|\n",
        "|Newspaper| Newspaper advertising budget in thousands of dollars.|\n",
        "|Sales| Product Sales in thousands of dollars.|\n",
        "\n",
        "  **Source:** https://www.kaggle.com/ishaanv/ISLR-Auto\n",
        "\n",
        "Predict the impact of TV advertising on your product sales by using kNN regression and evaluate the accuracy of the model.\n",
        "\n",
        "\n",
        "\n"
      ]
    },
    {
      "cell_type": "markdown",
      "metadata": {
        "id": "l2W51RVUDq5Q"
      },
      "source": [
        "---"
      ]
    },
    {
      "cell_type": "markdown",
      "metadata": {
        "id": "b-0V3uyC_wkC"
      },
      "source": [
        "### List of Activities\n",
        "\n",
        "**Activity 1:** Import Modules and Read Data\n",
        "\n",
        "  \n",
        "**Activity 2:**  Perform Train-Test Split\n",
        "\n",
        "**Activity 3:**  Determine the Optimal Value of  $k$\n",
        "\n",
        "**Activity 4:** Build kNN Regressor Model\n",
        "\n",
        "\n",
        "\n",
        "\n"
      ]
    },
    {
      "cell_type": "markdown",
      "metadata": {
        "id": "iPsloISKDsAG"
      },
      "source": [
        "---"
      ]
    },
    {
      "cell_type": "markdown",
      "metadata": {
        "id": "hEtQxeW__6oW"
      },
      "source": [
        "\n",
        "#### Activity 1: Import Modules and Read Data\n",
        "\n",
        "Create a Pandas DataFrame for **Advertising-Sales** dataset using the below link. This dataset contains information about the money spent on the TV, radio, and newspaper advertisement (in thousand dollars) and their generated sales (in thousand units). The dataset consists of examples that are divided by 1000.\n",
        "\n",
        "\n",
        "\n",
        "  **Dataset :** advertising.csv\n",
        "\n",
        "Also, print the first five rows of the dataset. Check for null values and treat them accordingly.\n",
        "\n",
        "\n"
      ]
    },
    {
      "cell_type": "code",
      "metadata": {
        "id": "BdIrU2M0AWLK",
        "colab": {
          "base_uri": "https://localhost:8080/"
        },
        "outputId": "da2df791-5665-4aac-8970-ca2872d2bb88"
      },
      "source": [
        "# Import modules\n",
        "from sklearn.model_selection import train_test_split\n",
        "from sklearn.neighbors import KNeighborsClassifier\n",
        "from sklearn.metrics import accuracy_score\n",
        "import pandas as pd\n",
        "\n",
        "# Load the dataset\n",
        "df=pd.read_csv(\"/content/advertising.csv\")\n",
        "df.head()\n",
        "\n",
        "# Print first five rows using head() function\n",
        "print(df[:5])"
      ],
      "execution_count": null,
      "outputs": [
        {
          "output_type": "stream",
          "name": "stdout",
          "text": [
            "      TV  Radio  Newspaper  Sales\n",
            "0  230.1   37.8       69.2   22.1\n",
            "1   44.5   39.3       45.1   10.4\n",
            "2   17.2   45.9       69.3   12.0\n",
            "3  151.5   41.3       58.5   16.5\n",
            "4  180.8   10.8       58.4   17.9\n"
          ]
        }
      ]
    },
    {
      "cell_type": "code",
      "metadata": {
        "id": "8LXtVcLdhxo7",
        "colab": {
          "base_uri": "https://localhost:8080/"
        },
        "outputId": "3e8a2810-cbeb-4548-9e03-6737751380d7"
      },
      "source": [
        "# Check if there are any null values. If any column has null values, treat them accordingly.\n",
        "df.isnull().sum()"
      ],
      "execution_count": null,
      "outputs": [
        {
          "output_type": "execute_result",
          "data": {
            "text/plain": [
              "TV           0\n",
              "Radio        0\n",
              "Newspaper    0\n",
              "Sales        0\n",
              "dtype: int64"
            ]
          },
          "metadata": {},
          "execution_count": 19
        }
      ]
    },
    {
      "cell_type": "markdown",
      "metadata": {
        "id": "ctSMIL6fxYAM"
      },
      "source": [
        "**Q:** Are there any missing or null values in the dataset?\n",
        "\n",
        "**A:** no\n"
      ]
    },
    {
      "cell_type": "markdown",
      "metadata": {
        "id": "rm8nBjLwiqzC"
      },
      "source": [
        "---"
      ]
    },
    {
      "cell_type": "markdown",
      "metadata": {
        "id": "lx5UydtLIYyG"
      },
      "source": [
        "#### Activity 2: Perform Train-Test Split\n",
        "\n",
        "In this dataset, `Sales` is the target variable and all other columns other than `Sales` are feature variables.\n",
        "\n",
        "Create two separate DataFrames, one containing the feature variables and the other containing the target variable.\n",
        "\n",
        "\n",
        "\n"
      ]
    },
    {
      "cell_type": "code",
      "metadata": {
        "id": "yJnUUE-Fu879",
        "colab": {
          "base_uri": "https://localhost:8080/"
        },
        "outputId": "091c6e14-588a-4257-a98a-f0b0ea381fdf"
      },
      "source": [
        "# Split the dataset into dependent and independent features\n",
        "features_df=df.drop(['Sales'],axis=1)\n",
        "target_df=df['Sales']\n",
        "print(features_df)\n",
        "print(target_df)\n"
      ],
      "execution_count": null,
      "outputs": [
        {
          "output_type": "stream",
          "name": "stdout",
          "text": [
            "        TV  Radio  Newspaper\n",
            "0    230.1   37.8       69.2\n",
            "1     44.5   39.3       45.1\n",
            "2     17.2   45.9       69.3\n",
            "3    151.5   41.3       58.5\n",
            "4    180.8   10.8       58.4\n",
            "..     ...    ...        ...\n",
            "195   38.2    3.7       13.8\n",
            "196   94.2    4.9        8.1\n",
            "197  177.0    9.3        6.4\n",
            "198  283.6   42.0       66.2\n",
            "199  232.1    8.6        8.7\n",
            "\n",
            "[200 rows x 3 columns]\n",
            "0      22.1\n",
            "1      10.4\n",
            "2      12.0\n",
            "3      16.5\n",
            "4      17.9\n",
            "       ... \n",
            "195     7.6\n",
            "196    14.0\n",
            "197    14.8\n",
            "198    25.5\n",
            "199    18.4\n",
            "Name: Sales, Length: 200, dtype: float64\n"
          ]
        }
      ]
    },
    {
      "cell_type": "markdown",
      "metadata": {
        "id": "uzZeX27MxTWt"
      },
      "source": [
        "Normalise all the feature variables using the `StandardScaler` technique so that all the features have mean `0` and the same variance before applying kNN."
      ]
    },
    {
      "cell_type": "code",
      "metadata": {
        "id": "G6DzZQkUvQOM",
        "colab": {
          "base_uri": "https://localhost:8080/",
          "height": 206
        },
        "outputId": "6edc5764-8b23-4a07-b9a5-7e981fcba0a3"
      },
      "source": [
        "# Normalise the feature variables using 'StandardScaler'.\n",
        "\n",
        "\n",
        "# Import 'StandardScaler' from 'sklearn.preprocessing' module.\n",
        "from sklearn.preprocessing import StandardScaler\n",
        "\n",
        "# Create an object of 'StandardScaler' and call 'fit_transform()' function by passing feature variables.\n",
        "ob=StandardScaler()\n",
        "scaled_features=ob.fit_transform(features_df)\n",
        "\n",
        "\n",
        "\n",
        "# Convert the scaled features array obtained from 'fit_transform()' function into a DataFrame.\n",
        "x_scaled=pd.DataFrame(scaled_features)\n",
        "x_scaled.columns=features_df.columns\n",
        "x_scaled.head()\n"
      ],
      "execution_count": null,
      "outputs": [
        {
          "output_type": "execute_result",
          "data": {
            "text/plain": [
              "         TV     Radio  Newspaper\n",
              "0  0.969852  0.981522   1.778945\n",
              "1 -1.197376  1.082808   0.669579\n",
              "2 -1.516155  1.528463   1.783549\n",
              "3  0.052050  1.217855   1.286405\n",
              "4  0.394182 -0.841614   1.281802"
            ],
            "text/html": [
              "\n",
              "  <div id=\"df-71e06bda-fba2-4162-9ff0-55b6f36af683\" class=\"colab-df-container\">\n",
              "    <div>\n",
              "<style scoped>\n",
              "    .dataframe tbody tr th:only-of-type {\n",
              "        vertical-align: middle;\n",
              "    }\n",
              "\n",
              "    .dataframe tbody tr th {\n",
              "        vertical-align: top;\n",
              "    }\n",
              "\n",
              "    .dataframe thead th {\n",
              "        text-align: right;\n",
              "    }\n",
              "</style>\n",
              "<table border=\"1\" class=\"dataframe\">\n",
              "  <thead>\n",
              "    <tr style=\"text-align: right;\">\n",
              "      <th></th>\n",
              "      <th>TV</th>\n",
              "      <th>Radio</th>\n",
              "      <th>Newspaper</th>\n",
              "    </tr>\n",
              "  </thead>\n",
              "  <tbody>\n",
              "    <tr>\n",
              "      <th>0</th>\n",
              "      <td>0.969852</td>\n",
              "      <td>0.981522</td>\n",
              "      <td>1.778945</td>\n",
              "    </tr>\n",
              "    <tr>\n",
              "      <th>1</th>\n",
              "      <td>-1.197376</td>\n",
              "      <td>1.082808</td>\n",
              "      <td>0.669579</td>\n",
              "    </tr>\n",
              "    <tr>\n",
              "      <th>2</th>\n",
              "      <td>-1.516155</td>\n",
              "      <td>1.528463</td>\n",
              "      <td>1.783549</td>\n",
              "    </tr>\n",
              "    <tr>\n",
              "      <th>3</th>\n",
              "      <td>0.052050</td>\n",
              "      <td>1.217855</td>\n",
              "      <td>1.286405</td>\n",
              "    </tr>\n",
              "    <tr>\n",
              "      <th>4</th>\n",
              "      <td>0.394182</td>\n",
              "      <td>-0.841614</td>\n",
              "      <td>1.281802</td>\n",
              "    </tr>\n",
              "  </tbody>\n",
              "</table>\n",
              "</div>\n",
              "    <div class=\"colab-df-buttons\">\n",
              "\n",
              "  <div class=\"colab-df-container\">\n",
              "    <button class=\"colab-df-convert\" onclick=\"convertToInteractive('df-71e06bda-fba2-4162-9ff0-55b6f36af683')\"\n",
              "            title=\"Convert this dataframe to an interactive table.\"\n",
              "            style=\"display:none;\">\n",
              "\n",
              "  <svg xmlns=\"http://www.w3.org/2000/svg\" height=\"24px\" viewBox=\"0 -960 960 960\">\n",
              "    <path d=\"M120-120v-720h720v720H120Zm60-500h600v-160H180v160Zm220 220h160v-160H400v160Zm0 220h160v-160H400v160ZM180-400h160v-160H180v160Zm440 0h160v-160H620v160ZM180-180h160v-160H180v160Zm440 0h160v-160H620v160Z\"/>\n",
              "  </svg>\n",
              "    </button>\n",
              "\n",
              "  <style>\n",
              "    .colab-df-container {\n",
              "      display:flex;\n",
              "      gap: 12px;\n",
              "    }\n",
              "\n",
              "    .colab-df-convert {\n",
              "      background-color: #E8F0FE;\n",
              "      border: none;\n",
              "      border-radius: 50%;\n",
              "      cursor: pointer;\n",
              "      display: none;\n",
              "      fill: #1967D2;\n",
              "      height: 32px;\n",
              "      padding: 0 0 0 0;\n",
              "      width: 32px;\n",
              "    }\n",
              "\n",
              "    .colab-df-convert:hover {\n",
              "      background-color: #E2EBFA;\n",
              "      box-shadow: 0px 1px 2px rgba(60, 64, 67, 0.3), 0px 1px 3px 1px rgba(60, 64, 67, 0.15);\n",
              "      fill: #174EA6;\n",
              "    }\n",
              "\n",
              "    .colab-df-buttons div {\n",
              "      margin-bottom: 4px;\n",
              "    }\n",
              "\n",
              "    [theme=dark] .colab-df-convert {\n",
              "      background-color: #3B4455;\n",
              "      fill: #D2E3FC;\n",
              "    }\n",
              "\n",
              "    [theme=dark] .colab-df-convert:hover {\n",
              "      background-color: #434B5C;\n",
              "      box-shadow: 0px 1px 3px 1px rgba(0, 0, 0, 0.15);\n",
              "      filter: drop-shadow(0px 1px 2px rgba(0, 0, 0, 0.3));\n",
              "      fill: #FFFFFF;\n",
              "    }\n",
              "  </style>\n",
              "\n",
              "    <script>\n",
              "      const buttonEl =\n",
              "        document.querySelector('#df-71e06bda-fba2-4162-9ff0-55b6f36af683 button.colab-df-convert');\n",
              "      buttonEl.style.display =\n",
              "        google.colab.kernel.accessAllowed ? 'block' : 'none';\n",
              "\n",
              "      async function convertToInteractive(key) {\n",
              "        const element = document.querySelector('#df-71e06bda-fba2-4162-9ff0-55b6f36af683');\n",
              "        const dataTable =\n",
              "          await google.colab.kernel.invokeFunction('convertToInteractive',\n",
              "                                                    [key], {});\n",
              "        if (!dataTable) return;\n",
              "\n",
              "        const docLinkHtml = 'Like what you see? Visit the ' +\n",
              "          '<a target=\"_blank\" href=https://colab.research.google.com/notebooks/data_table.ipynb>data table notebook</a>'\n",
              "          + ' to learn more about interactive tables.';\n",
              "        element.innerHTML = '';\n",
              "        dataTable['output_type'] = 'display_data';\n",
              "        await google.colab.output.renderOutput(dataTable, element);\n",
              "        const docLink = document.createElement('div');\n",
              "        docLink.innerHTML = docLinkHtml;\n",
              "        element.appendChild(docLink);\n",
              "      }\n",
              "    </script>\n",
              "  </div>\n",
              "\n",
              "\n",
              "<div id=\"df-41cf6804-4f4f-4d28-a427-0eabc025365e\">\n",
              "  <button class=\"colab-df-quickchart\" onclick=\"quickchart('df-41cf6804-4f4f-4d28-a427-0eabc025365e')\"\n",
              "            title=\"Suggest charts.\"\n",
              "            style=\"display:none;\">\n",
              "\n",
              "<svg xmlns=\"http://www.w3.org/2000/svg\" height=\"24px\"viewBox=\"0 0 24 24\"\n",
              "     width=\"24px\">\n",
              "    <g>\n",
              "        <path d=\"M19 3H5c-1.1 0-2 .9-2 2v14c0 1.1.9 2 2 2h14c1.1 0 2-.9 2-2V5c0-1.1-.9-2-2-2zM9 17H7v-7h2v7zm4 0h-2V7h2v10zm4 0h-2v-4h2v4z\"/>\n",
              "    </g>\n",
              "</svg>\n",
              "  </button>\n",
              "\n",
              "<style>\n",
              "  .colab-df-quickchart {\n",
              "      --bg-color: #E8F0FE;\n",
              "      --fill-color: #1967D2;\n",
              "      --hover-bg-color: #E2EBFA;\n",
              "      --hover-fill-color: #174EA6;\n",
              "      --disabled-fill-color: #AAA;\n",
              "      --disabled-bg-color: #DDD;\n",
              "  }\n",
              "\n",
              "  [theme=dark] .colab-df-quickchart {\n",
              "      --bg-color: #3B4455;\n",
              "      --fill-color: #D2E3FC;\n",
              "      --hover-bg-color: #434B5C;\n",
              "      --hover-fill-color: #FFFFFF;\n",
              "      --disabled-bg-color: #3B4455;\n",
              "      --disabled-fill-color: #666;\n",
              "  }\n",
              "\n",
              "  .colab-df-quickchart {\n",
              "    background-color: var(--bg-color);\n",
              "    border: none;\n",
              "    border-radius: 50%;\n",
              "    cursor: pointer;\n",
              "    display: none;\n",
              "    fill: var(--fill-color);\n",
              "    height: 32px;\n",
              "    padding: 0;\n",
              "    width: 32px;\n",
              "  }\n",
              "\n",
              "  .colab-df-quickchart:hover {\n",
              "    background-color: var(--hover-bg-color);\n",
              "    box-shadow: 0 1px 2px rgba(60, 64, 67, 0.3), 0 1px 3px 1px rgba(60, 64, 67, 0.15);\n",
              "    fill: var(--button-hover-fill-color);\n",
              "  }\n",
              "\n",
              "  .colab-df-quickchart-complete:disabled,\n",
              "  .colab-df-quickchart-complete:disabled:hover {\n",
              "    background-color: var(--disabled-bg-color);\n",
              "    fill: var(--disabled-fill-color);\n",
              "    box-shadow: none;\n",
              "  }\n",
              "\n",
              "  .colab-df-spinner {\n",
              "    border: 2px solid var(--fill-color);\n",
              "    border-color: transparent;\n",
              "    border-bottom-color: var(--fill-color);\n",
              "    animation:\n",
              "      spin 1s steps(1) infinite;\n",
              "  }\n",
              "\n",
              "  @keyframes spin {\n",
              "    0% {\n",
              "      border-color: transparent;\n",
              "      border-bottom-color: var(--fill-color);\n",
              "      border-left-color: var(--fill-color);\n",
              "    }\n",
              "    20% {\n",
              "      border-color: transparent;\n",
              "      border-left-color: var(--fill-color);\n",
              "      border-top-color: var(--fill-color);\n",
              "    }\n",
              "    30% {\n",
              "      border-color: transparent;\n",
              "      border-left-color: var(--fill-color);\n",
              "      border-top-color: var(--fill-color);\n",
              "      border-right-color: var(--fill-color);\n",
              "    }\n",
              "    40% {\n",
              "      border-color: transparent;\n",
              "      border-right-color: var(--fill-color);\n",
              "      border-top-color: var(--fill-color);\n",
              "    }\n",
              "    60% {\n",
              "      border-color: transparent;\n",
              "      border-right-color: var(--fill-color);\n",
              "    }\n",
              "    80% {\n",
              "      border-color: transparent;\n",
              "      border-right-color: var(--fill-color);\n",
              "      border-bottom-color: var(--fill-color);\n",
              "    }\n",
              "    90% {\n",
              "      border-color: transparent;\n",
              "      border-bottom-color: var(--fill-color);\n",
              "    }\n",
              "  }\n",
              "</style>\n",
              "\n",
              "  <script>\n",
              "    async function quickchart(key) {\n",
              "      const quickchartButtonEl =\n",
              "        document.querySelector('#' + key + ' button');\n",
              "      quickchartButtonEl.disabled = true;  // To prevent multiple clicks.\n",
              "      quickchartButtonEl.classList.add('colab-df-spinner');\n",
              "      try {\n",
              "        const charts = await google.colab.kernel.invokeFunction(\n",
              "            'suggestCharts', [key], {});\n",
              "      } catch (error) {\n",
              "        console.error('Error during call to suggestCharts:', error);\n",
              "      }\n",
              "      quickchartButtonEl.classList.remove('colab-df-spinner');\n",
              "      quickchartButtonEl.classList.add('colab-df-quickchart-complete');\n",
              "    }\n",
              "    (() => {\n",
              "      let quickchartButtonEl =\n",
              "        document.querySelector('#df-41cf6804-4f4f-4d28-a427-0eabc025365e button');\n",
              "      quickchartButtonEl.style.display =\n",
              "        google.colab.kernel.accessAllowed ? 'block' : 'none';\n",
              "    })();\n",
              "  </script>\n",
              "</div>\n",
              "    </div>\n",
              "  </div>\n"
            ]
          },
          "metadata": {},
          "execution_count": 21
        }
      ]
    },
    {
      "cell_type": "markdown",
      "metadata": {
        "id": "Uwh9xVZWxI-9"
      },
      "source": [
        "Split the dataset into a train set and test set such that the train set contains 70% of the instances and the remaining instances will become the test set."
      ]
    },
    {
      "cell_type": "code",
      "metadata": {
        "id": "REuLvaloGigG",
        "colab": {
          "base_uri": "https://localhost:8080/"
        },
        "outputId": "45875dc1-8d3b-4a5e-9915-40a69d66e079"
      },
      "source": [
        "# Split the DataFrame into the train and test sets.\n",
        "# Perform train-test split using 'train_test_split' function.\n",
        "x_train,x_test,y_train,y_test=train_test_split(x_scaled,target_df,train_size=0.7,random_state=42)\n",
        "# Print the shape of train and test sets.\n",
        "print(\"size of x train\",x_train.shape)\n",
        "print(\"size of x test\",x_test.shape)\n",
        "print(\"size of y train\",y_train.shape)\n",
        "print(\"size of y test\",y_test.shape)\n"
      ],
      "execution_count": null,
      "outputs": [
        {
          "output_type": "stream",
          "name": "stdout",
          "text": [
            "size of x train (140, 3)\n",
            "size of x test (60, 3)\n",
            "size of y train (140,)\n",
            "size of y test (60,)\n"
          ]
        }
      ]
    },
    {
      "cell_type": "markdown",
      "metadata": {
        "id": "j2NRwS8IypCV"
      },
      "source": [
        "After this activity, you must obtain train and test sets so that they can be used for training and testing the kNN regressor model."
      ]
    },
    {
      "cell_type": "markdown",
      "metadata": {
        "id": "Z8dDEvjfy9iT"
      },
      "source": [
        "---"
      ]
    },
    {
      "cell_type": "markdown",
      "metadata": {
        "id": "zR8DRfBc0f8r"
      },
      "source": [
        "#### Activity 3: Build kNN Regressor Model\n",
        "\n",
        "Deploy the kNN regressor model for the optimal value of $k$ using the steps given below:   \n",
        "\n",
        "1. Import the `KNeighborsRegressor` class from the `sklearn.neighbors` module (if not imported yet).\n",
        "\n",
        "2. Create an object of `KNeighborsRegressor` and pass the optimal $k$ value 2 as input to its constructor.\n",
        "\n",
        "3. Call the `fit()` function using the regressor object and pass the train set as inputs to this function.\n",
        "\n",
        "4. Perform prediction for train and test sets using the `predict()` function.\n",
        "\n",
        "5. Also, determine the accuracy score of the train and test sets using the `score()` function."
      ]
    },
    {
      "cell_type": "code",
      "metadata": {
        "id": "EgZyP_OTvqYd"
      },
      "source": [
        "# Train kNN regressor model\n",
        "\n",
        "# Perform prediction using 'predict()' function.\n",
        "\n",
        "\n",
        "# Call the 'score()' function to check the accuracy score of the train set and test set.\n"
      ],
      "execution_count": null,
      "outputs": []
    },
    {
      "cell_type": "markdown",
      "metadata": {
        "id": "VxWffrYt4TmG"
      },
      "source": [
        "**Q:** Write down the train and test set accuracy scores for the kNN regressor?\n",
        "\n",
        "**A:**\n"
      ]
    },
    {
      "cell_type": "markdown",
      "metadata": {
        "id": "GZdTlw_g42TL"
      },
      "source": [
        "After this activity, you must obtain a kNN regressor model using the `sklearn` module for predicting total sales based on advertising budgets."
      ]
    },
    {
      "cell_type": "markdown",
      "metadata": {
        "id": "fSxPcV0ySZDu"
      },
      "source": [
        "---"
      ]
    }
  ]
}