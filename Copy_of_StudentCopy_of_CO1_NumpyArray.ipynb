{
  "nbformat": 4,
  "nbformat_minor": 0,
  "metadata": {
    "colab": {
      "provenance": [],
      "include_colab_link": true
    },
    "kernelspec": {
      "name": "python3",
      "display_name": "Python 3"
    },
    "language_info": {
      "name": "python"
    }
  },
  "cells": [
    {
      "cell_type": "markdown",
      "metadata": {
        "id": "view-in-github",
        "colab_type": "text"
      },
      "source": [
        "<a href=\"https://colab.research.google.com/github/SeethalekshmiMohan/Datascience/blob/main/Copy_of_StudentCopy_of_CO1_NumpyArray.ipynb\" target=\"_parent\"><img src=\"https://colab.research.google.com/assets/colab-badge.svg\" alt=\"Open In Colab\"/></a>"
      ]
    },
    {
      "cell_type": "code",
      "source": [
        "# program to create an array of all the even integers from 20 to 80\n",
        "import numpy as np\n",
        "x=np.arange(start =20,stop=80,step=2)\n",
        "print(x)\n"
      ],
      "metadata": {
        "id": "cfWur71N9aGi",
        "outputId": "c5a95ded-3357-44b9-ca09-20ad4fc89eb2",
        "colab": {
          "base_uri": "https://localhost:8080/"
        }
      },
      "execution_count": null,
      "outputs": [
        {
          "output_type": "stream",
          "name": "stdout",
          "text": [
            "[20 22 24 26 28 30 32 34 36 38 40 42 44 46 48 50 52 54 56 58 60 62 64 66\n",
            " 68 70 72 74 76 78]\n"
          ]
        }
      ]
    },
    {
      "cell_type": "code",
      "execution_count": null,
      "metadata": {
        "id": "RmYAaiCX73Y2",
        "outputId": "5348b708-1e98-4a0b-9f09-d2d71c7b8dcb",
        "colab": {
          "base_uri": "https://localhost:8080/"
        }
      },
      "outputs": [
        {
          "output_type": "stream",
          "name": "stdout",
          "text": [
            "Array A\n",
            "[10 12 23 34 26  3]\n",
            "\n",
            "Array B\n",
            "[11 15 20 22 16  2]\n",
            "A>B\n",
            "[False False  True  True  True  True]\n",
            "A>=B\n",
            "[False False  True  True  True  True]\n",
            "A<B\n",
            "[ True  True False False False False]\n",
            "A<=B\n",
            "[ True  True False False False False]\n"
          ]
        }
      ],
      "source": [
        "#Write a program to create a numpy array and perform element-wise comparison (greater, greater_equal, less than, lesser_equal).\n",
        "import numpy as np\n",
        "x=np.array([10,12,23,34,26,3])\n",
        "y=np.array([11,15,20,22,16,2])\n",
        "print(\"Array A\")\n",
        "print(x)\n",
        "print(\"\\nArray B\")\n",
        "print(y)\n",
        "print(\"A>B\")\n",
        "print(np.greater(x,y))\n",
        "print(\"A>=B\")\n",
        "print(np.greater_equal(x,y))\n",
        "print(\"A<B\")\n",
        "print(np.less(x,y))\n",
        "print(\"A<=B\")\n",
        "print(np.less_equal(x,y))\n"
      ]
    },
    {
      "cell_type": "code",
      "source": [
        "#program to multiply two given arrays of same size\n",
        "import numpy as np\n",
        "x=([[2,3,4],[3,6,8]])\n",
        "y=([[3,5,7],[2,5,7]])\n",
        "print(x)\n",
        "print(y)\n",
        "print(np.multiply(x,y))\n",
        "\n"
      ],
      "metadata": {
        "id": "js_mIfpL9M6z",
        "outputId": "0c05aa07-e950-472d-cac7-31d1c288309c",
        "colab": {
          "base_uri": "https://localhost:8080/"
        }
      },
      "execution_count": null,
      "outputs": [
        {
          "output_type": "stream",
          "name": "stdout",
          "text": [
            "[[2, 3, 4], [3, 6, 8]]\n",
            "[[3, 5, 7], [2, 5, 7]]\n",
            "[[ 6 15 28]\n",
            " [ 6 30 56]]\n"
          ]
        }
      ]
    },
    {
      "cell_type": "code",
      "source": [
        "#Program to save a given array to a text file and load it\n",
        "import numpy as np\n",
        "import os\n",
        "x=np.arange(16).reshape(4,4)\n",
        "print(\"Array\")\n",
        "print(x)\n",
        "h='Cl1 Cl2 Cl3 Cl4'\n",
        "np.savetxt(\"myarray.txt\",x,fmt=\"%d\",header=h)\n",
        "print(\"\\nAfter loading content\")\n",
        "print(np.loadtxt(\"myarray.txt\"))"
      ],
      "metadata": {
        "id": "ZcAcw9Cu9pYA",
        "outputId": "d9d1e035-c7b2-4935-ef2a-0b372e7ac9a2",
        "colab": {
          "base_uri": "https://localhost:8080/"
        }
      },
      "execution_count": null,
      "outputs": [
        {
          "output_type": "stream",
          "name": "stdout",
          "text": [
            "Array\n",
            "[[ 0  1  2  3]\n",
            " [ 4  5  6  7]\n",
            " [ 8  9 10 11]\n",
            " [12 13 14 15]]\n",
            "\n",
            "After loading content\n",
            "[[ 0.  1.  2.  3.]\n",
            " [ 4.  5.  6.  7.]\n",
            " [ 8.  9. 10. 11.]\n",
            " [12. 13. 14. 15.]]\n"
          ]
        }
      ]
    }
  ]
}