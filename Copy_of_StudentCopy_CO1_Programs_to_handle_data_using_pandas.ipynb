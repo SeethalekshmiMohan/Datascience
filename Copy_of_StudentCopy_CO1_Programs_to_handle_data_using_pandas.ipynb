{
  "nbformat": 4,
  "nbformat_minor": 0,
  "metadata": {
    "colab": {
      "provenance": [],
      "include_colab_link": true
    },
    "kernelspec": {
      "name": "python3",
      "display_name": "Python 3"
    },
    "language_info": {
      "name": "python"
    }
  },
  "cells": [
    {
      "cell_type": "markdown",
      "metadata": {
        "id": "view-in-github",
        "colab_type": "text"
      },
      "source": [
        "<a href=\"https://colab.research.google.com/github/SeethalekshmiMohan/Datascience/blob/main/Copy_of_StudentCopy_CO1_Programs_to_handle_data_using_pandas.ipynb\" target=\"_parent\"><img src=\"https://colab.research.google.com/assets/colab-badge.svg\" alt=\"Open In Colab\"/></a>"
      ]
    },
    {
      "cell_type": "code",
      "execution_count": null,
      "metadata": {
        "id": "Ef5hPWODER7z",
        "colab": {
          "base_uri": "https://localhost:8080/"
        },
        "outputId": "1c80ebcb-63b3-47fa-e0ba-6cac79039a00"
      },
      "outputs": [
        {
          "output_type": "stream",
          "name": "stdout",
          "text": [
            "0     Seetha\n",
            "1     Bhagya\n",
            "2    Haritha\n",
            "dtype: object\n"
          ]
        }
      ],
      "source": [
        "#1. Write a python program to implement List-to-Series Conversion\n",
        "import pandas as pd\n",
        "list=['Seetha','Bhagya','Haritha']\n",
        "l1=pd.Series(list)\n",
        "print(l1)\n"
      ]
    },
    {
      "cell_type": "code",
      "source": [],
      "metadata": {
        "id": "vG_-F2bHK-cD"
      },
      "execution_count": null,
      "outputs": []
    },
    {
      "cell_type": "code",
      "source": [
        "#2. Write a python program to Generate the series of dates from 1st September, 2023 to 25th September, 2023 (both inclusive).\n",
        "import pandas as pd\n",
        "data=pd.Series(pd.date_range(\"2023-09-01\",\"2023-09-25\",freq=\"D\"))\n",
        "data\n",
        "\n"
      ],
      "metadata": {
        "id": "DQLSsJdrEk8m",
        "colab": {
          "base_uri": "https://localhost:8080/"
        },
        "outputId": "1b8bd5d9-1c2f-4117-9b5f-b11008cdadfd"
      },
      "execution_count": null,
      "outputs": [
        {
          "output_type": "execute_result",
          "data": {
            "text/plain": [
              "0    2023-09-01\n",
              "1    2023-09-02\n",
              "2    2023-09-03\n",
              "3    2023-09-04\n",
              "4    2023-09-05\n",
              "5    2023-09-06\n",
              "6    2023-09-07\n",
              "7    2023-09-08\n",
              "8    2023-09-09\n",
              "9    2023-09-10\n",
              "10   2023-09-11\n",
              "11   2023-09-12\n",
              "12   2023-09-13\n",
              "13   2023-09-14\n",
              "14   2023-09-15\n",
              "15   2023-09-16\n",
              "16   2023-09-17\n",
              "17   2023-09-18\n",
              "18   2023-09-19\n",
              "19   2023-09-20\n",
              "20   2023-09-21\n",
              "21   2023-09-22\n",
              "22   2023-09-23\n",
              "23   2023-09-24\n",
              "24   2023-09-25\n",
              "dtype: datetime64[ns]"
            ]
          },
          "metadata": {},
          "execution_count": 5
        }
      ]
    },
    {
      "cell_type": "code",
      "source": [
        "\"\"\"\n",
        "3. Given a dictionary, convert it into corresponding dataframe and display it.\n",
        "\n",
        "\"\"\"\n",
        "import pandas as pd\n",
        "details={\n",
        "    \"name\":[\"seetha\",\"haritha\",\"bhagya\",\"dethan\",\"adarsh\",\"vishnu\",\"rohit\",\"jissmon\",\"glodin\"],\n",
        "    \"age\" :[1,2,3,4,5,6,7,8,9]\n",
        "\n",
        "}\n",
        "df=pd.DataFrame(details)\n",
        "print(df)\n"
      ],
      "metadata": {
        "id": "i0Xq0leGFGwS",
        "colab": {
          "base_uri": "https://localhost:8080/"
        },
        "outputId": "84d83799-78a8-45bf-a833-f36bd4156f53"
      },
      "execution_count": null,
      "outputs": [
        {
          "output_type": "stream",
          "name": "stdout",
          "text": [
            "      name  age\n",
            "0   seetha    1\n",
            "1  haritha    2\n",
            "2   bhagya    3\n",
            "3   dethan    4\n",
            "4   adarsh    5\n",
            "5   vishnu    6\n",
            "6    rohit    7\n",
            "7  jissmon    8\n",
            "8   glodin    9\n"
          ]
        }
      ]
    },
    {
      "cell_type": "code",
      "source": [
        "\"\"\"\n",
        "4. Given a dataframe, select first 2 rows and output them.\n",
        "\n",
        "\"\"\"\n",
        "import pandas as pd\n",
        "details={\n",
        "    \"name\":[\"seetha\",\"haritha\",\"bhagya\",\"dethan\",\"adarsh\",\"vishnu\",\"rohit\",\"jissmon\",\"glodin\"],\n",
        "    \"age\" :[1,2,3,4,5,6,7,8,9]\n",
        "\n",
        "}\n",
        "df=pd.DataFrame(details)\n",
        "print(df[:2])\n"
      ],
      "metadata": {
        "colab": {
          "base_uri": "https://localhost:8080/"
        },
        "id": "eVka6OOkGTug",
        "outputId": "01f0e6ed-7c4c-4ab0-b2c4-7a9be5991eb8"
      },
      "execution_count": null,
      "outputs": [
        {
          "output_type": "stream",
          "name": "stdout",
          "text": [
            "      name  age\n",
            "0   seetha    1\n",
            "1  haritha    2\n"
          ]
        }
      ]
    },
    {
      "cell_type": "code",
      "source": [
        "# 5. Given is a dataframe showing name, occupation,salary of people. Find the average salary per occupation.\n",
        "import pandas as pd\n",
        "details={\n",
        "    \"names\":[\"seetha\",\"haritha\",\"bhagya\",\"dethan\",\"adarsh\",\"vishnu\",\"rohit\",\"jissmon\",\"glodin\"],\n",
        "    \"occupation\":[\"manager\",\"bussiness\",\"teacher\",\"assistant\",\"manager\",\"bussiness\",\"teacher\",\"assistant\",\"manager\"],\n",
        "    \"salary\":[3000,3500,4000,2500,4500,5000,4300,5700,5000]\n",
        "}\n",
        "df=pd.DataFrame(details)\n",
        "print(df)\n",
        "occ=df.groupby(\"occupation\")[\"salary\"].mean()\n",
        "print(occ)\n",
        "\n"
      ],
      "metadata": {
        "id": "QgWQhTCWG0O4",
        "colab": {
          "base_uri": "https://localhost:8080/"
        },
        "outputId": "7722e3f8-4c9e-416d-9a9d-4d253c9c6296"
      },
      "execution_count": null,
      "outputs": [
        {
          "output_type": "stream",
          "name": "stdout",
          "text": [
            "     names occupation  salary\n",
            "0   seetha    manager    3000\n",
            "1  haritha  bussiness    3500\n",
            "2   bhagya    teacher    4000\n",
            "3   dethan  assistant    2500\n",
            "4   adarsh    manager    4500\n",
            "5   vishnu  bussiness    5000\n",
            "6    rohit    teacher    4300\n",
            "7  jissmon  assistant    5700\n",
            "8   glodin    manager    5000\n",
            "occupation\n",
            "assistant    4100.000000\n",
            "bussiness    4250.000000\n",
            "manager      4166.666667\n",
            "teacher      4150.000000\n",
            "Name: salary, dtype: float64\n"
          ]
        }
      ]
    }
  ]
}